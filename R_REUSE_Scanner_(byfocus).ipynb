{
  "cells": [
    {
      "cell_type": "markdown",
      "metadata": {
        "id": "fb3dtDuHTTm9"
      },
      "source": [
        "# Random vulnerability\n",
        "# Recovering Bitcoin private keys using weak signatures with random vulnerability from the blockchain.\n",
        "\n",
        "Scanner find bitcoin wallet have R-reuse "
      ]
    },
    {
      "cell_type": "markdown",
      "metadata": {
        "id": "nkhfoLyJl4gx"
      },
      "source": [
        "# Google Drive:"
      ]
    },
    {
      "cell_type": "code",
      "execution_count": null,
      "metadata": {
        "id": "O6vtOunhl7lf"
      },
      "outputs": [],
      "source": [
        "from google.colab import drive\n",
        "drive.mount('/content/drive/')"
      ]
    },
    {
      "cell_type": "markdown",
      "metadata": {
        "id": "oWizxQfKmGSw"
      },
      "source": [
        "Catalog (drive/MyDrive/R-REUSE/):"
      ]
    },
    {
      "cell_type": "code",
      "execution_count": null,
      "metadata": {
        "id": "m-NNJF3_mFVe"
      },
      "outputs": [],
      "source": [
        "cd drive/MyDrive/R-REUSE/"
      ]
    },
    {
      "cell_type": "code",
      "execution_count": 4,
      "metadata": {
        "id": "V-IjDVe7qCJc"
      },
      "outputs": [],
      "source": [
        "!chmod +x scanner.sh\n",
        "!sed -i -e 's/\\r$//' scanner.sh\n",
        "!chmod +x scanner2.sh\n",
        "!sed -i -e 's/\\r$//' scanner2.sh"
      ]
    },
    {
      "cell_type": "code",
      "execution_count": null,
      "metadata": {
        "colab": {
          "background_save": true
        },
        "id": "ds2fMJnZqHor"
      },
      "outputs": [],
      "source": [
        "!./scanner.sh"
      ]
    },
    {
      "cell_type": "markdown",
      "source": [
        "if you have wallet with with random vulnerability .use scanner2 for get Mohsen.txt \n",
        "\n",
        "just put address in actaddr.mnk"
      ],
      "metadata": {
        "id": "aJSAI3ULpqSO"
      }
    },
    {
      "cell_type": "code",
      "source": [
        "!./scanner2.sh"
      ],
      "metadata": {
        "id": "5hAP9d3MpsYg"
      },
      "execution_count": null,
      "outputs": []
    }
  ],
  "metadata": {
    "colab": {
      "provenance": []
    },
    "kernelspec": {
      "display_name": "Python 3",
      "name": "python3"
    },
    "language_info": {
      "name": "python"
    }
  },
  "nbformat": 4,
  "nbformat_minor": 0
}